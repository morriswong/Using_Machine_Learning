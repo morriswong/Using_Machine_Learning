{
 "cells": [
  {
   "cell_type": "markdown",
   "metadata": {
    "deletable": true,
    "editable": true
   },
   "source": [
    "# Billionaires.\n",
    "\n",
    "Found out an interesting [post](https://www.bloomberg.com/billionaires/) on Bloomberg listing 500 richest people on earth (publicly), so crawled down the data and did some plots.\n",
    "\n",
    "As of March 30, 2017"
   ]
  },
  {
   "cell_type": "code",
   "execution_count": 1,
   "metadata": {
    "collapsed": true,
    "deletable": true,
    "editable": true
   },
   "outputs": [],
   "source": [
    "import pandas as pd"
   ]
  },
  {
   "cell_type": "code",
   "execution_count": 2,
   "metadata": {
    "collapsed": true,
    "deletable": true,
    "editable": true
   },
   "outputs": [],
   "source": [
    "bil = pd.read_csv(\"Data/billionaires.csv\", sep = \",\")"
   ]
  },
  {
   "cell_type": "code",
   "execution_count": 3,
   "metadata": {
    "collapsed": false,
    "deletable": true,
    "editable": true
   },
   "outputs": [
    {
     "data": {
      "text/html": [
       "<div>\n",
       "<table border=\"1\" class=\"dataframe\">\n",
       "  <thead>\n",
       "    <tr style=\"text-align: right;\">\n",
       "      <th></th>\n",
       "      <th>Rank</th>\n",
       "      <th>Name</th>\n",
       "      <th>Total_net_worth</th>\n",
       "      <th>Last_change</th>\n",
       "      <th>YTD_change</th>\n",
       "      <th>Country</th>\n",
       "      <th>Industry</th>\n",
       "    </tr>\n",
       "  </thead>\n",
       "  <tbody>\n",
       "    <tr>\n",
       "      <th>0</th>\n",
       "      <td>1</td>\n",
       "      <td>Bill Gates</td>\n",
       "      <td>8.600000e+10</td>\n",
       "      <td>-11400000.0</td>\n",
       "      <td>3.630000e+06</td>\n",
       "      <td>United States</td>\n",
       "      <td>Technology</td>\n",
       "    </tr>\n",
       "    <tr>\n",
       "      <th>1</th>\n",
       "      <td>2</td>\n",
       "      <td>Jeff Bezos</td>\n",
       "      <td>7.560000e+10</td>\n",
       "      <td>1490000.0</td>\n",
       "      <td>1.020000e+10</td>\n",
       "      <td>United States</td>\n",
       "      <td>Technology</td>\n",
       "    </tr>\n",
       "    <tr>\n",
       "      <th>2</th>\n",
       "      <td>3</td>\n",
       "      <td>Warren Buffett</td>\n",
       "      <td>7.490000e+10</td>\n",
       "      <td>-809000000.0</td>\n",
       "      <td>1.750000e+06</td>\n",
       "      <td>United States</td>\n",
       "      <td>Diversified</td>\n",
       "    </tr>\n",
       "    <tr>\n",
       "      <th>3</th>\n",
       "      <td>4</td>\n",
       "      <td>Amancio Ortega</td>\n",
       "      <td>7.420000e+10</td>\n",
       "      <td>121000000.0</td>\n",
       "      <td>2.100000e+09</td>\n",
       "      <td>Spain</td>\n",
       "      <td>Retail</td>\n",
       "    </tr>\n",
       "    <tr>\n",
       "      <th>4</th>\n",
       "      <td>5</td>\n",
       "      <td>Mark Zuckerberg</td>\n",
       "      <td>6.140000e+10</td>\n",
       "      <td>340000000.0</td>\n",
       "      <td>1.140000e+10</td>\n",
       "      <td>United States</td>\n",
       "      <td>Technology</td>\n",
       "    </tr>\n",
       "  </tbody>\n",
       "</table>\n",
       "</div>"
      ],
      "text/plain": [
       "   Rank             Name  Total_net_worth   Last_change    YTD_change  \\\n",
       "0     1       Bill Gates     8.600000e+10   -11400000.0  3.630000e+06   \n",
       "1     2       Jeff Bezos     7.560000e+10     1490000.0  1.020000e+10   \n",
       "2     3   Warren Buffett     7.490000e+10  -809000000.0  1.750000e+06   \n",
       "3     4   Amancio Ortega     7.420000e+10   121000000.0  2.100000e+09   \n",
       "4     5  Mark Zuckerberg     6.140000e+10   340000000.0  1.140000e+10   \n",
       "\n",
       "         Country     Industry  \n",
       "0  United States   Technology  \n",
       "1  United States   Technology  \n",
       "2  United States  Diversified  \n",
       "3          Spain       Retail  \n",
       "4  United States   Technology  "
      ]
     },
     "execution_count": 3,
     "metadata": {},
     "output_type": "execute_result"
    }
   ],
   "source": [
    "bil.head()"
   ]
  },
  {
   "cell_type": "markdown",
   "metadata": {
    "deletable": true,
    "editable": true
   },
   "source": [
    "### The total money of the Richest 500"
   ]
  },
  {
   "cell_type": "code",
   "execution_count": 4,
   "metadata": {
    "collapsed": false,
    "deletable": true,
    "editable": true
   },
   "outputs": [
    {
     "name": "stdout",
     "output_type": "stream",
     "text": [
      "Total_net_worth: 4.7233e+12\n",
      "Total_net_worth: 4.7233 trillion\n",
      "Total_net_worth: 4723.3 billion\n"
     ]
    }
   ],
   "source": [
    "total_net_worth = sum(bil[\"Total_net_worth\"])\n",
    "\n",
    "print(\"Total_net_worth:\", total_net_worth)\n",
    "print(\"Total_net_worth:\", total_net_worth / 1e+12, \"trillion\")\n",
    "print(\"Total_net_worth:\", total_net_worth / 1e+9, \"billion\")"
   ]
  },
  {
   "cell_type": "markdown",
   "metadata": {
    "deletable": true,
    "editable": true
   },
   "source": [
    "The total wealth of the world in 2015 was estimated to be **`$250.1`** trillion dollars by [Credit Suisse](https://publications.credit-suisse.com/tasks/render/file/?fileID=F2425415-DCA7-80B8-EAD989AF9341D47E) in their annual global wealth report"
   ]
  },
  {
   "cell_type": "code",
   "execution_count": 5,
   "metadata": {
    "collapsed": false,
    "deletable": true,
    "editable": true
   },
   "outputs": [],
   "source": [
    "country_bil_count = pd.DataFrame(bil[\"Country\"].value_counts())\n",
    "industry_bil_count = pd.DataFrame(bil[\"Industry\"].value_counts())"
   ]
  },
  {
   "cell_type": "code",
   "execution_count": 6,
   "metadata": {
    "collapsed": false,
    "deletable": true,
    "editable": true
   },
   "outputs": [
    {
     "name": "stdout",
     "output_type": "stream",
     "text": [
      "Populating the interactive namespace from numpy and matplotlib\n"
     ]
    },
    {
     "data": {
      "text/plain": [
       "<matplotlib.axes._subplots.AxesSubplot at 0x117b92cf8>"
      ]
     },
     "execution_count": 6,
     "metadata": {},
     "output_type": "execute_result"
    },
    {
     "data": {
      "image/png": "[encoded data removed]",
      "text/plain": [
       "<matplotlib.figure.Figure at 0x1170bf160>"
      ]
     },
     "metadata": {},
     "output_type": "display_data"
    }
   ],
   "source": [
    "%pylab inline\n",
    "pylab.rcParams['figure.figsize'] = (16, 6)\n",
    "\n",
    "country_bil_count.plot.bar()"
   ]
  },
  {
   "cell_type": "code",
   "execution_count": 7,
   "metadata": {
    "collapsed": false,
    "deletable": true,
    "editable": true
   },
   "outputs": [
    {
     "name": "stdout",
     "output_type": "stream",
     "text": [
      "Populating the interactive namespace from numpy and matplotlib\n"
     ]
    },
    {
     "data": {
      "text/plain": [
       "<matplotlib.axes._subplots.AxesSubplot at 0x11b0416a0>"
      ]
     },
     "execution_count": 7,
     "metadata": {},
     "output_type": "execute_result"
    },
    {
     "data": {
      "image/png": "[encoded data removed]",
      "text/plain": [
       "<matplotlib.figure.Figure at 0x11b07e1d0>"
      ]
     },
     "metadata": {},
     "output_type": "display_data"
    }
   ],
   "source": [
    "%pylab inline\n",
    "pylab.rcParams['figure.figsize'] = (10, 4)\n",
    "\n",
    "industry_bil_count.plot.bar()"
   ]
  },
  {
   "cell_type": "code",
   "execution_count": null,
   "metadata": {
    "collapsed": true,
    "deletable": true,
    "editable": true
   },
   "outputs": [],
   "source": []
  }
 ],
 "metadata": {
  "kernelspec": {
   "display_name": "Python 3",
   "language": "python",
   "name": "python3"
  },
  "language_info": {
   "codemirror_mode": {
    "name": "ipython",
    "version": 3
   },
   "file_extension": ".py",
   "mimetype": "text/x-python",
   "name": "python",
   "nbconvert_exporter": "python",
   "pygments_lexer": "ipython3",
   "version": "3.5.3"
  }
 },
 "nbformat": 4,
 "nbformat_minor": 2
}
