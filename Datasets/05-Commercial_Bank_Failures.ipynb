{
 "cells": [
  {
   "cell_type": "markdown",
   "metadata": {
    "deletable": true,
    "editable": true
   },
   "source": [
    "[Dataset: Commercial Bank Failures, 1934-Present](https://www.kaggle.com/fdic/bank-failures)"
   ]
  },
  {
   "cell_type": "code",
   "execution_count": 1,
   "metadata": {
    "collapsed": true,
    "deletable": true,
    "editable": true
   },
   "outputs": [],
   "source": [
    "import pandas as pd"
   ]
  },
  {
   "cell_type": "code",
   "execution_count": 2,
   "metadata": {
    "collapsed": false,
    "deletable": true,
    "editable": true,
    "scrolled": true
   },
   "outputs": [],
   "source": [
    "bank = pd.read_csv(\"/Users/AdamLiu/Code/Machine_Learning/Datasets/Kaggle/bank-failures.csv\")"
   ]
  },
  {
   "cell_type": "code",
   "execution_count": 3,
   "metadata": {
    "collapsed": false,
    "deletable": true,
    "editable": true
   },
   "outputs": [
    {
     "name": "stdout",
     "output_type": "stream",
     "text": [
      "['Financial Institution Number' 'Institution Name' 'Institution Type'\n",
      " 'Charter Type' 'Headquarters' 'Failure Date' 'Insurance Fund'\n",
      " 'Certificate Number' 'Transaction Type' 'Total Deposits' 'Total Assets'\n",
      " 'Estimated Loss (2015)']\n"
     ]
    }
   ],
   "source": [
    "print(bank.columns.values)"
   ]
  },
  {
   "cell_type": "code",
   "execution_count": 4,
   "metadata": {
    "collapsed": false,
    "deletable": true,
    "editable": true
   },
   "outputs": [
    {
     "data": {
      "text/plain": [
       "HOUSTON, TX            76\n",
       "DALLAS, TX             47\n",
       "CHICAGO, IL            40\n",
       "SAN ANTONIO, TX        38\n",
       "LOS ANGELES, CA        34\n",
       "AUSTIN, TX             33\n",
       "NEW ORLEANS, LA        21\n",
       "DENVER, CO             21\n",
       "MIAMI, FL              20\n",
       "NEW YORK, NY           19\n",
       "OKLAHOMA CITY, OK      18\n",
       "PHOENIX, AZ            16\n",
       "ATLANTA, GA            15\n",
       "BOSTON, MA             15\n",
       "SAN DIEGO, CA          13\n",
       "PLANO, TX              13\n",
       "SAN FRANCISCO, CA      12\n",
       "SCOTTSDALE, AZ         12\n",
       "ARLINGTON, TX          11\n",
       "BATON ROUGE, LA        11\n",
       "FORT WORTH, TX         11\n",
       "TYLER, TX              10\n",
       "SALT LAKE CITY, UT      9\n",
       "PHILADELPHIA, PA        9\n",
       "KANSAS CITY, MO         9\n",
       "ALBUQUERQUE, NM         9\n",
       "METAIRIE, LA            9\n",
       "NEWPORT BEACH, CA       8\n",
       "BIRMINGHAM, AL          8\n",
       "EL PASO, TX             8\n",
       "                       ..\n",
       "COMANCHE, TX            1\n",
       "BRADLEY, IL             1\n",
       "CARLISLE, MN            1\n",
       "HUNTINGTON, WV          1\n",
       "PROTECTION, KS          1\n",
       "VERNAL, UT              1\n",
       "DEARBORN, MI            1\n",
       "CLAYTON, GA             1\n",
       "BROWNSTOWN, IN          1\n",
       "CLAXTON, GA             1\n",
       "DRAPER, NC              1\n",
       "SAN LUIS OBISPO, CA     1\n",
       "WYOMING, MN             1\n",
       "HANCOCK, MN             1\n",
       "RATHDRUM, ID            1\n",
       "ELBA, NE                1\n",
       "WORTH, IL               1\n",
       "DETROIT LAKES, MN       1\n",
       "AUBURN, IA              1\n",
       "VAN NUYS, CA            1\n",
       "KERENS, TX              1\n",
       "NEWBERN, TN             1\n",
       "CORVALLIS, OR           1\n",
       "EAST ALTON, IL          1\n",
       "LEWISTON, ME            1\n",
       "ROCKY FORD, CO          1\n",
       "GENEVA, NE              1\n",
       "NORTH BEND, OR          1\n",
       "MORELAND, KY            1\n",
       "SUSSEX, WI              1\n",
       "Name: Headquarters, dtype: int64"
      ]
     },
     "execution_count": 4,
     "metadata": {},
     "output_type": "execute_result"
    }
   ],
   "source": [
    "bank.loc[:, 'Headquarters'].value_counts()"
   ]
  },
  {
   "cell_type": "code",
   "execution_count": 5,
   "metadata": {
    "collapsed": false,
    "deletable": true,
    "editable": true
   },
   "outputs": [],
   "source": [
    "states = []\n",
    "for city in list(bank.loc[:, 'Headquarters']):\n",
    "    states.append(city.split(\", \")[1])"
   ]
  },
  {
   "cell_type": "code",
   "execution_count": 6,
   "metadata": {
    "collapsed": false
   },
   "outputs": [
    {
     "data": {
      "text/plain": [
       "FIRST STATE BANK                         37\n",
       "THE FIRST STATE BANK                     18\n",
       "FARMERS STATE BANK                       16\n",
       "CITIZENS STATE BANK                      10\n",
       "FIRST FED. S & L ASSOC.                   9\n",
       "FIRST NATIONAL BANK                       8\n",
       "CITIZENS NATIONAL BANK                    7\n",
       "SECURITY STATE BANK                       6\n",
       "THE FARMERS STATE BANK                    6\n",
       "FIRST FS & LA                             6\n",
       "PEOPLES STATE BANK                        6\n",
       "FARMERS & MERCHANTS BANK                  6\n",
       "CITIZENS BANK                             6\n",
       "AMERICAN NATIONAL BANK                    5\n",
       "THE HOME STATE BANK                       5\n",
       "TEXAS NATIONAL BANK                       5\n",
       "COMMERCIAL STATE BANK                     4\n",
       "COMMUNITY BANK                            4\n",
       "THE CITIZENS BANK                         4\n",
       "PREMIER BANK                              4\n",
       "AMERICAN BANK & TRUST COMPANY             4\n",
       "FIRST FEDERAL SAVINGS & LOAN              4\n",
       "WESTERN NATIONAL BANK                     4\n",
       "THE PEOPLES BANK                          4\n",
       "THE BANK OF COMMERCE                      3\n",
       "SOUTHWEST NATIONAL BANK                   3\n",
       "FIRST FEDERAL SAVINGS                     3\n",
       "THE CITIZENS STATE BANK                   3\n",
       "COMMUNITY NATIONAL BANK                   3\n",
       "UNITED FS & LA                            3\n",
       "                                         ..\n",
       "JEFFERSON FEDERAL SA                      1\n",
       "MIDWEST FEDERAL SAVINGS BANK              1\n",
       "FIRST NATIONAL BANK OF IRVING             1\n",
       "LARUE FS&LA                               1\n",
       "COMMUNITY FEDERAL SAVINGS BANK            1\n",
       "MOULTRIE SAVINGS BANK FSB                 1\n",
       "FALLBROOK NATIONAL BANK                   1\n",
       "PHOENIX FS&LA                             1\n",
       "FIRST SOUTHERN NATIONAL BANK              1\n",
       "FINANCIAL SECURITY S & L ASSOC.           1\n",
       "UNIFIRST BANK FOR SAVINGS                 1\n",
       "CITY FS & LA                              1\n",
       "SUN SAVINGS ASSOCIATION, FA               1\n",
       "AQUIA BK & TR COMPANY                     1\n",
       "THE FIRST NATIONAL BANK OF DODGEVILLE     1\n",
       "SOONER FEDERAL SAVINGS ASSOC.             1\n",
       "FIRST REPUBLICBANK-EL PASO, N.A.          1\n",
       "EVERGREEN STATE BANK                      1\n",
       "COLUMBIA FEDERAL HOMESTEAD                1\n",
       "GEORGIA TRUST BANK                        1\n",
       "FIRST STATE BANK OF MAX                   1\n",
       "CITY & COUNTY BK OF ANDERSON CTY          1\n",
       "GOLDEN PACIFIC NATIONAL BANK              1\n",
       "UNIVERSAL S&LA                            1\n",
       "CAPITAL BANK & TRUST CO.                  1\n",
       "BALDWINSVILLE STATE BANK                  1\n",
       "MONROE SAVINGS BANK, FSB                  1\n",
       "UVALDE FS & LA                            1\n",
       "THE INA STATE BANK                        1\n",
       "FIRST FS & LA OF COFFEYVILLE              1\n",
       "Name: Institution Name, dtype: int64"
      ]
     },
     "execution_count": 6,
     "metadata": {},
     "output_type": "execute_result"
    }
   ],
   "source": [
    "bank.loc[:, 'Institution Name'].value_counts()"
   ]
  },
  {
   "cell_type": "code",
   "execution_count": null,
   "metadata": {
    "collapsed": true
   },
   "outputs": [],
   "source": []
  }
 ],
 "metadata": {
  "anaconda-cloud": {},
  "kernelspec": {
   "display_name": "Python 3",
   "language": "python",
   "name": "python3"
  },
  "language_info": {
   "codemirror_mode": {
    "name": "ipython",
    "version": 3
   },
   "file_extension": ".py",
   "mimetype": "text/x-python",
   "name": "python",
   "nbconvert_exporter": "python",
   "pygments_lexer": "ipython3",
   "version": "3.6.0"
  }
 },
 "nbformat": 4,
 "nbformat_minor": 1
}
