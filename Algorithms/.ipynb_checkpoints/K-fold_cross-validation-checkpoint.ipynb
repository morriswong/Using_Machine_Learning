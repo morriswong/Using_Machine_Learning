{
 "cells": [
  {
   "cell_type": "markdown",
   "metadata": {},
   "source": [
    "### Review of K-fold cross-validation\n",
    "\n",
    "#### Steps for cross-validation:\n",
    "\n",
    "- Dataset is split into K \"folds\" of equal size\n",
    "- Each fold acts as the testing set 1 time, and acts as the training set K-1 times\n",
    "- Average testing performance is used as the estimate of out-of-sample performance\n",
    "\n",
    "#### Benefits of cross-validation:\n",
    "\n",
    "- More reliable estimate of out-of-sample performance than train/test split\n",
    "- Can be used for selecting tuning parameters, choosing between models, and selecting features\n",
    "\n",
    "#### Drawbacks of cross-validation:\n",
    "\n",
    "- Can be computationally expensive"
   ]
  },
  {
   "cell_type": "code",
   "execution_count": null,
   "metadata": {
    "collapsed": true
   },
   "outputs": [],
   "source": []
  }
 ],
 "metadata": {
  "kernelspec": {
   "display_name": "Python [default]",
   "language": "python",
   "name": "python3"
  },
  "language_info": {
   "codemirror_mode": {
    "name": "ipython",
    "version": 3
   },
   "file_extension": ".py",
   "mimetype": "text/x-python",
   "name": "python",
   "nbconvert_exporter": "python",
   "pygments_lexer": "ipython3",
   "version": "3.5.2"
  }
 },
 "nbformat": 4,
 "nbformat_minor": 1
}
